{
 "cells": [
  {
   "cell_type": "code",
   "execution_count": 1,
   "metadata": {
    "pycharm": {
     "is_executing": false
    }
   },
   "outputs": [],
   "source": [
    "#find a better way to do that for every notebook in a folder\n",
    "\n",
    "import os\n",
    "os.chdir('/Users/edoardo/GitProjects/rsys')"
   ]
  },
  {
   "cell_type": "code",
   "execution_count": 2,
   "metadata": {
    "pycharm": {
     "is_executing": false
    }
   },
   "outputs": [
    {
     "name": "stderr",
     "text": [
      "[nltk_data] Downloading package stopwords to\n",
      "[nltk_data]     /Users/edoardo/nltk_data...\n",
      "[nltk_data]   Package stopwords is already up-to-date!\n"
     ],
     "output_type": "stream"
    }
   ],
   "source": [
    "#library used for manage graphs in python\n",
    "import networkx as nx\n",
    "from networkx.algorithms import bipartite\n",
    "import scipy.sparse as sps\n",
    "import numpy as np\n",
    "from recsys_framework.data_manager.reader.Movielens100KReader import Movielens100KReader\n",
    "from recsys_framework.data_manager.reader.Movielens1MReader import Movielens1MReader\n",
    "import recsys_framework.graph.graph_builder as gbuilder"
   ]
  },
  {
   "cell_type": "markdown",
   "metadata": {},
   "source": [
    "### Try with a diagonal matrix"
   ]
  },
  {
   "cell_type": "code",
   "execution_count": 3,
   "metadata": {
    "pycharm": {
     "is_executing": false
    }
   },
   "outputs": [],
   "source": [
    "#create a diagonal sparse matrix\n",
    "sp_matr = sps.csc_matrix(np.eye(5))"
   ]
  },
  {
   "cell_type": "code",
   "execution_count": 4,
   "metadata": {
    "pycharm": {
     "is_executing": false
    }
   },
   "outputs": [],
   "source": [
    "#create a graph starting from a biadjency matrix\n",
    "bip_graph = bipartite.matrix.from_biadjacency_matrix(sp_matr)"
   ]
  },
  {
   "cell_type": "code",
   "execution_count": 5,
   "metadata": {
    "pycharm": {
     "is_executing": false
    }
   },
   "outputs": [],
   "source": [
    "#we have to assign manually an attribute to recognize to which class a node belongs\n",
    "color = bipartite.color(bip_graph)"
   ]
  },
  {
   "cell_type": "code",
   "execution_count": 6,
   "metadata": {
    "pycharm": {
     "is_executing": false
    }
   },
   "outputs": [],
   "source": [
    "#assign color to each node, to recognize to which set it belongs\n",
    "nx.set_node_attributes(bip_graph, color, 'bipartite')"
   ]
  },
  {
   "cell_type": "markdown",
   "metadata": {},
   "source": [
    "### Create the bipartite graph associated to M100K"
   ]
  },
  {
   "cell_type": "code",
   "execution_count": 7,
   "metadata": {
    "pycharm": {
     "is_executing": false
    }
   },
   "outputs": [
    {
     "name": "stdout",
     "text": [
      "reader: Loading /Users/edoardo/GitProjects/rsys/datasets/splits/Movielens100K/original/URM_all...\n",
      "reader: Loading complete!\n",
      "reader: Data loading and postprocessing completed\n",
      "Current dataset is: Movielens100K\n",
      "\tNumber of items: 1682\n",
      "\tNumber of users: 943\n",
      "\tNumber of interactions in URM_all: 100000\n",
      "\tInteraction density: 6.3047%\n",
      "\tInteractions per user:\n",
      "\t\t Min: 20\n",
      "\t\t Avg: 106.04\n",
      "\t\t Max: 737\n",
      "\tInteractions per item:\n",
      "\t\t Min: 1\n",
      "\t\t Avg: 59.45\n",
      "\t\t Max: 583\n",
      "\n"
     ],
     "output_type": "stream"
    }
   ],
   "source": [
    "reader = Movielens100KReader()\n",
    "m100k_dataset = reader.load_data()\n",
    "m100k_urm = m100k_dataset.get_URM()\n",
    "bip_graph = bipartite.matrix.from_biadjacency_matrix(m100k_urm)"
   ]
  },
  {
   "cell_type": "markdown",
   "metadata": {},
   "source": [
    "#### Get the bipartite color and set it as attribute to every node"
   ]
  },
  {
   "cell_type": "code",
   "execution_count": 8,
   "metadata": {
    "pycharm": {
     "is_executing": false
    }
   },
   "outputs": [],
   "source": [
    "color = bipartite.color(bip_graph)\n",
    "nx.set_node_attributes(bip_graph, color, 'bipartite')"
   ]
  },
  {
   "cell_type": "markdown",
   "metadata": {},
   "source": [
    "#### Save as GML a graph"
   ]
  },
  {
   "cell_type": "code",
   "execution_count": 21,
   "metadata": {
    "pycharm": {
     "is_executing": false
    }
   },
   "outputs": [],
   "source": [
    "nx.readwrite.gml.write_gml(bip_graph, 'm100k.gml')"
   ]
  },
  {
   "cell_type": "code",
   "execution_count": 9,
   "metadata": {
    "pycharm": {
     "is_executing": false,
     "name": "#%%\n"
    }
   },
   "outputs": [
    {
     "name": "stderr",
     "text": [
      "100%|██████████| 943/943 [00:00<00:00, 855554.55it/s]\n",
      "100%|██████████| 1682/1682 [00:00<00:00, 958926.10it/s]\n"
     ],
     "output_type": "stream"
    },
    {
     "name": "stdout",
     "text": [
      "Adding users nodes...\n",
      "Adding item nodes...\n"
     ],
     "output_type": "stream"
    }
   ],
   "source": [
    "mine_bip_graph = gbuilder.from_user_rating_matrix(m100k_urm)\n"
   ]
  },
  {
   "cell_type": "code",
   "execution_count": 10,
   "outputs": [],
   "source": [
    "nx.readwrite.gml.write_gml(mine_bip_graph, 'm100k_new.gml')\n",
    "\n"
   ],
   "metadata": {
    "collapsed": false,
    "pycharm": {
     "name": "#%%\n",
     "is_executing": false
    }
   }
  },
  {
   "cell_type": "code",
   "execution_count": null,
   "outputs": [],
   "source": [
    "\n"
   ],
   "metadata": {
    "collapsed": false,
    "pycharm": {
     "name": "#%%\n",
     "is_executing": false
    }
   }
  }
 ],
 "metadata": {
  "kernelspec": {
   "display_name": "Python 3",
   "language": "python",
   "name": "python3"
  },
  "language_info": {
   "codemirror_mode": {
    "name": "ipython",
    "version": 3
   },
   "file_extension": ".py",
   "mimetype": "text/x-python",
   "name": "python",
   "nbconvert_exporter": "python",
   "pygments_lexer": "ipython3",
   "version": "3.7.6"
  },
  "pycharm": {
   "stem_cell": {
    "cell_type": "raw",
    "source": [],
    "metadata": {
     "collapsed": false
    }
   }
  }
 },
 "nbformat": 4,
 "nbformat_minor": 4
}
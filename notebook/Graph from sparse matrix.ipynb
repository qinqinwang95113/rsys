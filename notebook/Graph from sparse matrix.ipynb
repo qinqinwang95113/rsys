{
 "cells": [
  {
   "cell_type": "code",
   "execution_count": 1,
   "metadata": {
    "pycharm": {
     "is_executing": false
    }
   },
   "outputs": [],
   "source": [
    "#find a better way to do that for every notebook in a folder\n",
    "\n",
    "import os\n",
    "os.chdir('/Users/edoardo/GitProjects/rsys')"
   ]
  },
  {
   "cell_type": "code",
   "execution_count": 2,
   "metadata": {
    "pycharm": {
     "is_executing": false
    }
   },
   "outputs": [
    {
     "name": "stderr",
     "text": [
      "[nltk_data] Downloading package stopwords to\n",
      "[nltk_data]     /Users/edoardo/nltk_data...\n",
      "[nltk_data]   Package stopwords is already up-to-date!\n"
     ],
     "output_type": "stream"
    }
   ],
   "source": [
    "#library used for manage graphs in python\n",
    "import networkx as nx\n",
    "from recsys_framework.data_manager.reader.Movielens100KReader import Movielens100KReader\n",
    "import recsys_framework.graph.graph_builder as gbuilder"
   ]
  },
  {
   "cell_type": "markdown",
   "source": [
    "### Create the bipartite graph associated to M100K"
   ],
   "metadata": {
    "collapsed": false,
    "pycharm": {
     "name": "#%% md\n",
     "is_executing": false
    }
   }
  },
  {
   "cell_type": "code",
   "execution_count": 3,
   "metadata": {
    "pycharm": {
     "is_executing": false
    }
   },
   "outputs": [
    {
     "name": "stderr",
     "text": [
      "100%|██████████| 943/943 [00:00<00:00, 1182076.71it/s]\n",
      "100%|██████████| 1682/1682 [00:00<00:00, 865728.23it/s]\n"
     ],
     "output_type": "stream"
    },
    {
     "name": "stdout",
     "text": [
      "reader: Loading /Users/edoardo/GitProjects/rsys/datasets/splits/Movielens100K/original/URM_all...\n",
      "reader: Loading complete!\n",
      "reader: Data loading and postprocessing completed\n",
      "Current dataset is: Movielens100K\n",
      "\tNumber of items: 1682\n",
      "\tNumber of users: 943\n",
      "\tNumber of interactions in URM_all: 100000\n",
      "\tInteraction density: 6.3047%\n",
      "\tInteractions per user:\n",
      "\t\t Min: 20\n",
      "\t\t Avg: 106.04\n",
      "\t\t Max: 737\n",
      "\tInteractions per item:\n",
      "\t\t Min: 1\n",
      "\t\t Avg: 59.45\n",
      "\t\t Max: 583\n",
      "\n",
      "Adding users nodes...\n",
      "Adding item nodes...\n"
     ],
     "output_type": "stream"
    }
   ],
   "source": [
    "reader = Movielens100KReader()\n",
    "m100k_dataset = reader.load_data()\n",
    "m100k_urm = m100k_dataset.get_URM()\n",
    "bip_graph = gbuilder.from_user_rating_matrix(m100k_urm)"
   ]
  },
  {
   "cell_type": "markdown",
   "metadata": {},
   "source": [
    "#### Save as GML a graph"
   ]
  },
  {
   "cell_type": "code",
   "execution_count": 21,
   "metadata": {
    "pycharm": {
     "is_executing": false,
     "name": "#%%\n"
    }
   },
   "outputs": [],
   "source": [
    "nx.readwrite.gml.write_gml(bip_graph, 'm100k.gml')\n",
    "\n",
    "\n",
    "\n",
    "\n",
    "\n",
    "\n",
    "\n"
   ]
  }
 ],
 "metadata": {
  "kernelspec": {
   "display_name": "Python 3",
   "language": "python",
   "name": "python3"
  },
  "language_info": {
   "codemirror_mode": {
    "name": "ipython",
    "version": 3
   },
   "file_extension": ".py",
   "mimetype": "text/x-python",
   "name": "python",
   "nbconvert_exporter": "python",
   "pygments_lexer": "ipython3",
   "version": "3.7.6"
  },
  "pycharm": {
   "stem_cell": {
    "cell_type": "raw",
    "source": [],
    "metadata": {
     "collapsed": false
    }
   }
  }
 },
 "nbformat": 4,
 "nbformat_minor": 4
}